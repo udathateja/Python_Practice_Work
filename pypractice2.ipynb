{
  "nbformat": 4,
  "nbformat_minor": 0,
  "metadata": {
    "colab": {
      "name": "pypractice2.ipynb",
      "provenance": [],
      "collapsed_sections": []
    },
    "kernelspec": {
      "name": "python3",
      "display_name": "Python 3"
    }
  },
  "cells": [
    {
      "cell_type": "code",
      "metadata": {
        "id": "Qmg5LXEGFv6S",
        "colab": {
          "base_uri": "https://localhost:8080/"
        },
        "outputId": "421cda67-4391-4a5e-ae48-148e74c30fd1"
      },
      "source": [
        "from google.colab import drive, files\n",
        "drive.mount('/content/drive')"
      ],
      "execution_count": null,
      "outputs": [
        {
          "output_type": "stream",
          "text": [
            "Mounted at /content/drive\n"
          ],
          "name": "stdout"
        }
      ]
    },
    {
      "cell_type": "code",
      "metadata": {
        "id": "efcgRfgjFyw1"
      },
      "source": [
        "!ls \"/content/drive/My Drive/Colab Notebooks\""
      ],
      "execution_count": null,
      "outputs": []
    },
    {
      "cell_type": "code",
      "metadata": {
        "id": "OtCh-ZJ3F3Jy"
      },
      "source": [
        "import scipy.io\n",
        "import pandas as pd\n",
        "import numpy as np\n",
        "import matplotlib.pyplot as plt"
      ],
      "execution_count": null,
      "outputs": []
    },
    {
      "cell_type": "code",
      "metadata": {
        "colab": {
          "base_uri": "https://localhost:8080/"
        },
        "id": "R9hmdgyYQJB7",
        "outputId": "85b8b155-2305-4c30-c203-1a4078e6d47d"
      },
      "source": [
        "import sys\n",
        "inp = sys.stdin.readlines()\n",
        "print(inp)"
      ],
      "execution_count": null,
      "outputs": [
        {
          "output_type": "stream",
          "text": [
            "[]\n"
          ],
          "name": "stdout"
        }
      ]
    },
    {
      "cell_type": "code",
      "metadata": {
        "colab": {
          "base_uri": "https://localhost:8080/"
        },
        "id": "FlCF3R5h9rwk",
        "outputId": "38c0c120-db9c-473d-d4bb-fd70246d02e7"
      },
      "source": [
        "from collections import Counter\n",
        " \n",
        "def groupStrings(input):\n",
        "    # traverse all strings one by one\n",
        "    # dict is an empty dictionary\n",
        "    dict={}\n",
        "     \n",
        "    for word in input:\n",
        "        # sort the current string and take it's\n",
        "        # sorted value as key\n",
        "        # sorted return list of sorted characters\n",
        "        # we need to join them to get key as string\n",
        "        # Counter() method returns dictionary with frequency of\n",
        "        # each character as value\n",
        "        wordDict=Counter(word)\n",
        " \n",
        "        # now get list of keys\n",
        "        key = wordDict.keys()\n",
        " \n",
        "        # now sort these keys\n",
        "        key = sorted(key)\n",
        " \n",
        "        # join these characters to produce key string\n",
        "        key = ''.join(key)\n",
        "         \n",
        "        # now check if this key already exist in\n",
        "        # dictionary or not\n",
        "        # if exist then simply append current word\n",
        "        # in mapped list on key\n",
        "        # otherwise first assign empty list to key and\n",
        "        # then append current word in it\n",
        "        if key in dict.keys():\n",
        "            dict[key].append(word)\n",
        "        else:\n",
        "            dict[key]=[]\n",
        "            dict[key].append(word)\n",
        " \n",
        "        # now traverse complete dictionary and print\n",
        "        # list of mapped strings in each key separated by ,\n",
        "    for key,value in dict.items():\n",
        "        new=','.join(dict[key])\n",
        "        print(new)\n",
        "         \n",
        "# Driver program\n",
        "if __name__ == \"__main__\":\n",
        "    input=['may','student','students','dog','studentssess','god','cat','act','tab','bat','flow','wolf','lambs','amy','yam','balms','looped','poodle']\n",
        "    groupStrings(input)"
      ],
      "execution_count": null,
      "outputs": [
        {
          "output_type": "stream",
          "text": [
            "may,amy,yam\n",
            "student,students,studentssess\n",
            "dog,god\n",
            "cat,act\n",
            "tab,bat\n",
            "flow,wolf\n",
            "lambs,balms\n",
            "looped,poodle\n"
          ],
          "name": "stdout"
        }
      ]
    },
    {
      "cell_type": "code",
      "metadata": {
        "colab": {
          "base_uri": "https://localhost:8080/"
        },
        "id": "7JF0yEi3-kqA",
        "outputId": "ed0930b9-92a5-46f4-b69b-f740bdebe4fe"
      },
      "source": [
        "def groupStrings(input):\n",
        "    dict1={}\n",
        "    for word in input:\n",
        "        key = ''.join(sorted(dict.fromkeys(word).keys()))\n",
        "        if key in dict1.keys():\n",
        "            dict1[key].append(word)\n",
        "        else:\n",
        "            dict1[key]=[]\n",
        "            dict1[key].append(word)\n",
        "    for key,value in dict1.items():\n",
        "        print(', '.join(dict1[key]))\n",
        "\n",
        "if __name__ == \"__main__\":\n",
        "    input=['may','student','students','dog','studentssess','god','cat','act','tab','bat','flow','wolf','lambs','amy','yam','balms','looped','poodle']\n",
        "    groupStrings(input)"
      ],
      "execution_count": null,
      "outputs": [
        {
          "output_type": "stream",
          "text": [
            "may, amy, yam\n",
            "student, students, studentssess\n",
            "dog, god\n",
            "cat, act\n",
            "tab, bat\n",
            "flow, wolf\n",
            "lambs, balms\n",
            "looped, poodle\n"
          ],
          "name": "stdout"
        }
      ]
    },
    {
      "cell_type": "code",
      "metadata": {
        "colab": {
          "base_uri": "https://localhost:8080/"
        },
        "id": "-zAC9MvG_c9L",
        "outputId": "a2d79773-9b00-4822-e893-b44bbc39346d"
      },
      "source": [
        "s=\"abbcccdddd\"\n",
        "print(s)\n",
        "s1=list(s)\n",
        "print(s1)\n",
        "s2 = list(dict.fromkeys(s1))\n",
        "print(s2)\n",
        "s3=''.join(s2)\n",
        "print(s3)"
      ],
      "execution_count": null,
      "outputs": [
        {
          "output_type": "stream",
          "text": [
            "abbcccdddd\n",
            "['a', 'b', 'b', 'c', 'c', 'c', 'd', 'd', 'd', 'd']\n",
            "['a', 'b', 'c', 'd']\n",
            "abcd\n"
          ],
          "name": "stdout"
        }
      ]
    },
    {
      "cell_type": "code",
      "metadata": {
        "id": "cUZUUaC1umRH"
      },
      "source": [
        "import tkinter as tk\n",
        "root = tk.Tk()\n",
        "lab=tk.Label(root, text=\"Hellow\")\n",
        "lab.pack()\n",
        "root.mainloop()"
      ],
      "execution_count": null,
      "outputs": []
    },
    {
      "cell_type": "code",
      "metadata": {
        "id": "t87B-PI-Iy4-"
      },
      "source": [
        "list1=[34, 4, 5, (4, 5), {\"a\":4}, \"dfsdf\", 4.5]\n",
        "iter1 = iter(list1)\n",
        "print(dir(list1))"
      ],
      "execution_count": null,
      "outputs": []
    },
    {
      "cell_type": "code",
      "metadata": {
        "id": "LcSVQE--JaNa"
      },
      "source": [
        "class Person:\n",
        "    pass\n",
        "p1 = Person()\n",
        "p1.fname = 'Jack'\n",
        "p1.lname = 'Simmons'\n",
        "print(p1.fname, '-', p1.lname)  # -> 'Jack - Simmons'"
      ],
      "execution_count": null,
      "outputs": []
    },
    {
      "cell_type": "code",
      "metadata": {
        "id": "Xvaeyh9esSJs"
      },
      "source": [
        "lst = input()\n",
        "print(lst)"
      ],
      "execution_count": null,
      "outputs": []
    },
    {
      "cell_type": "code",
      "metadata": {
        "id": "JJHNRqd2hgCa"
      },
      "source": [
        "print(\"a\"+\"b\")"
      ],
      "execution_count": null,
      "outputs": []
    },
    {
      "cell_type": "code",
      "metadata": {
        "id": "8bwbZmPJwhqm"
      },
      "source": [
        "class Person:\n",
        "    def __init__(self, fname, lname):\n",
        "        self.fname = 'test'\n",
        "        self.lname = lname\n",
        "p1 = Person('George', 'Smith')   \n",
        "print(p1.fname, '-', p1.lname)           # -> 'George - Smith'"
      ],
      "execution_count": null,
      "outputs": []
    },
    {
      "cell_type": "code",
      "metadata": {
        "id": "zZP6JfwZzNv8"
      },
      "source": [
        "class Person:\n",
        "    def __init__(self, fname, lname):\n",
        "        self.fname = fname\n",
        "        self.lname = lname\n",
        "class Employee(Person):\n",
        "    all_employees = []\n",
        "    def __init__(self, fname, lname, empid):\n",
        "        Person.__init__(self, fname, lname)\n",
        "        self.empid = empid\n",
        "        Employee.all_employees.append(self)\n",
        "\n",
        "p1 = Person('George', 'smith')\n",
        "print(p1.fname, '-', p1.lname)\n",
        "e1 = Employee('Jack', 'simmons', 456342)\n",
        "e2 = Employee('John', 'williams', 123656)\n",
        "print(e1.fname, '-', e1.empid)\n",
        "print(e2.fname, '-', e2.empid)\n",
        "\n",
        "class EmployeesList(list):\n",
        "    def search(self, name):\n",
        "        matching_employees = []\n",
        "        for employee in Employee.all_employees:\n",
        "            if name in employee.fname:\n",
        "                matching_employees.append(employee.fname)\n",
        "        return matching_employees\n",
        "\n",
        "p2 = EmployeesList()\n",
        "print(p2.search('Jack'))"
      ],
      "execution_count": null,
      "outputs": []
    },
    {
      "cell_type": "code",
      "metadata": {
        "id": "miLZHlEPCwB4"
      },
      "source": [
        "def divide(a,b):\n",
        "    try:\n",
        "        result = a / b\n",
        "        return result\n",
        "    except ZeroDivisionError:\n",
        "        print(\"Dividing by Zero.\")\n",
        "    finally:\n",
        "        print(\"In finally clause.\")\n",
        "\n",
        "#print('First call')\n",
        "#print(divide(14, 7))\n",
        "#print('Second call')\n",
        "print(divide(14, 0))"
      ],
      "execution_count": null,
      "outputs": []
    },
    {
      "cell_type": "code",
      "metadata": {
        "id": "-Wlitoahi6kw"
      },
      "source": [
        "def plus_one(number):\n",
        "    return number + 1\n",
        "\n",
        "def function_call(function):\n",
        "    number_to_add = 5\n",
        "    return function(number_to_add)\n",
        "\n",
        "function_call(plus_one)"
      ],
      "execution_count": null,
      "outputs": []
    },
    {
      "cell_type": "code",
      "metadata": {
        "id": "MNnkUiyWkSf2"
      },
      "source": [
        "def hello_function():\n",
        "    def say_hi():\n",
        "        return \"Hi\"\n",
        "    return say_hi\n",
        "hello = hello_function()\n",
        "hello()"
      ],
      "execution_count": null,
      "outputs": []
    },
    {
      "cell_type": "code",
      "metadata": {
        "id": "ELry9b_07u6a"
      },
      "source": [
        "k=int(input())\n",
        "m=1\n",
        "if(k==1 or k==0):\n",
        "  print(f\"factorial value of {k} is 1\")\n",
        "else:\n",
        "  for n in range (1,k+1):\n",
        "    m=m*n\n",
        "  print(f\"factorial value of {k} is {m}\")\n"
      ],
      "execution_count": null,
      "outputs": []
    },
    {
      "cell_type": "code",
      "metadata": {
        "id": "69C7ux9-DQ_I"
      },
      "source": [
        "def print_message(message):\n",
        "    print(\"Enclosong Function\")\n",
        "    def message_sender():\n",
        "        print(\"Nested Function\")\n",
        "        print(message)\n",
        "    message_sender()\n",
        "\n",
        "print_message(\"Some random message\")"
      ],
      "execution_count": null,
      "outputs": []
    },
    {
      "cell_type": "code",
      "metadata": {
        "id": "JlLyIgDrE2MS"
      },
      "source": [
        "def uppercase_decorator(function):\n",
        "    def wrapper():\n",
        "        func = function()\n",
        "        make_uppercase = func.upper()\n",
        "        return make_uppercase\n",
        "\n",
        "    return wrapper\n",
        "\n",
        "def split_string(function):\n",
        "    def wrapper():\n",
        "        func = function()\n",
        "        splitted_string = func.split()\n",
        "        return splitted_string\n",
        "\n",
        "    return wrapper\n",
        "\n",
        "def say_hi():\n",
        "    return 'hello there'\n",
        "\n",
        "decorate = uppercase_decorator(say_hi)\n",
        "decorate()\n",
        "decorate1 = split_string(decorate)\n",
        "decorate1()\n",
        "#say_hi()"
      ],
      "execution_count": null,
      "outputs": []
    },
    {
      "cell_type": "code",
      "metadata": {
        "id": "V4EI-rNZsVrJ"
      },
      "source": [
        "x=[6,3,2]\n",
        "iter1 = iter(x)\n",
        "print(next(iter1))\n",
        "print(next(iter1))\n",
        "print(next(iter1))"
      ],
      "execution_count": null,
      "outputs": []
    },
    {
      "cell_type": "code",
      "metadata": {
        "id": "ibEP4FAr--q9"
      },
      "source": [
        "from random import randint\n",
        " \n",
        "def get_random_ints(count, begin, end):\n",
        "    print(\"get_random_ints start\")\n",
        "    list_numbers = []\n",
        "    for x in range(0, count):\n",
        "        list_numbers.append(randint(begin, end))\n",
        "    print(list_numbers)\n",
        "    print(\"get_random_ints end\")\n",
        " \n",
        " \n",
        "print(type(get_random_ints))\n",
        "nums = get_random_ints(10, 0, 100)"
      ],
      "execution_count": null,
      "outputs": []
    },
    {
      "cell_type": "code",
      "metadata": {
        "id": "1ugwYg4GDx1d"
      },
      "source": [
        "pip install flask"
      ],
      "execution_count": null,
      "outputs": []
    },
    {
      "cell_type": "code",
      "metadata": {
        "id": "5eCIdB_ND2hi"
      },
      "source": [
        "from flask import Flask\n",
        "app=Flask(__name__)\n",
        "\n",
        "@app.route(\"/\")\n",
        "def hello():\n",
        "  return \"Hello world\"\n",
        "\n",
        "if __name__=='__main__':\n",
        "  app.run(debug=True)"
      ],
      "execution_count": null,
      "outputs": []
    },
    {
      "cell_type": "code",
      "metadata": {
        "colab": {
          "base_uri": "https://localhost:8080/"
        },
        "id": "3kFPe6636ODv",
        "outputId": "b40d20d2-c955-413e-a107-fda35b19984a"
      },
      "source": [
        "from random import randint\n",
        "\n",
        "def get_random_ints(count, begin, end):\n",
        "    print(\"get_random_ints start\")\n",
        "    for x in range(0, count):\n",
        "        yield randint(begin, end)\n",
        "    print(\"get_random_ints end\")\n",
        " \n",
        " \n",
        "nums_generator = get_random_ints(10, 0, 100)\n",
        "print(type(nums_generator))\n",
        "for i in nums_generator:\n",
        "    print(i)"
      ],
      "execution_count": null,
      "outputs": [
        {
          "output_type": "stream",
          "text": [
            "<class 'generator'>\n",
            "get_random_ints start\n",
            "26\n",
            "83\n",
            "86\n",
            "39\n",
            "95\n",
            "69\n",
            "54\n",
            "1\n",
            "7\n",
            "97\n",
            "get_random_ints end\n"
          ],
          "name": "stdout"
        }
      ]
    },
    {
      "cell_type": "code",
      "metadata": {
        "colab": {
          "base_uri": "https://localhost:8080/"
        },
        "id": "ZnMPzTA2uk-c",
        "outputId": "bd28bba8-da01-4501-8277-75e7197bb07d"
      },
      "source": [
        "my_list = [1, 3, 6, 10]\n",
        "\n",
        "# square each term using list comprehension\n",
        "list_ = [x**2 for x in my_list]\n",
        "\n",
        "# same thing can be done using a generator expression\n",
        "# generator expressions are surrounded by parenthesis ()\n",
        "generator = (x**2 for x in my_list)\n",
        "\n",
        "print(list_)\n",
        "print(generator)\n",
        "print(next(generator))\n",
        "print(next(generator))\n",
        "print(next(generator))\n",
        "print(next(generator))"
      ],
      "execution_count": null,
      "outputs": [
        {
          "output_type": "stream",
          "text": [
            "[1, 9, 36, 100]\n",
            "<generator object <genexpr> at 0x7fb58d2ecb50>\n",
            "1\n",
            "9\n",
            "36\n",
            "100\n"
          ],
          "name": "stdout"
        }
      ]
    },
    {
      "cell_type": "code",
      "metadata": {
        "colab": {
          "base_uri": "https://localhost:8080/",
          "height": 243
        },
        "id": "cFxa7ZHLuOyB",
        "outputId": "5a556b74-0671-4779-9d42-29e4e497cf2b"
      },
      "source": [
        "from datetime import datetime as dt\n",
        "import time as t\n",
        "a=time.time()\n",
        "print(dt.now().strftime(\"%H:%M:%S\"))\n",
        "print(a)\n",
        "t.sleep(1)"
      ],
      "execution_count": null,
      "outputs": [
        {
          "output_type": "error",
          "ename": "NameError",
          "evalue": "ignored",
          "traceback": [
            "\u001b[0;31m---------------------------------------------------------------------------\u001b[0m",
            "\u001b[0;31mNameError\u001b[0m                                 Traceback (most recent call last)",
            "\u001b[0;32m<ipython-input-1-5d5dd4c94ddb>\u001b[0m in \u001b[0;36m<module>\u001b[0;34m()\u001b[0m\n\u001b[1;32m      1\u001b[0m \u001b[0;32mfrom\u001b[0m \u001b[0mdatetime\u001b[0m \u001b[0;32mimport\u001b[0m \u001b[0mdatetime\u001b[0m \u001b[0;32mas\u001b[0m \u001b[0mdt\u001b[0m\u001b[0;34m\u001b[0m\u001b[0;34m\u001b[0m\u001b[0m\n\u001b[1;32m      2\u001b[0m \u001b[0;32mimport\u001b[0m \u001b[0mtime\u001b[0m \u001b[0;32mas\u001b[0m \u001b[0mt\u001b[0m\u001b[0;34m\u001b[0m\u001b[0;34m\u001b[0m\u001b[0m\n\u001b[0;32m----> 3\u001b[0;31m \u001b[0ma\u001b[0m\u001b[0;34m=\u001b[0m\u001b[0mtime\u001b[0m\u001b[0;34m.\u001b[0m\u001b[0mtime\u001b[0m\u001b[0;34m(\u001b[0m\u001b[0;34m)\u001b[0m\u001b[0;34m\u001b[0m\u001b[0;34m\u001b[0m\u001b[0m\n\u001b[0m\u001b[1;32m      4\u001b[0m \u001b[0mprint\u001b[0m\u001b[0;34m(\u001b[0m\u001b[0mdt\u001b[0m\u001b[0;34m.\u001b[0m\u001b[0mnow\u001b[0m\u001b[0;34m(\u001b[0m\u001b[0;34m)\u001b[0m\u001b[0;34m.\u001b[0m\u001b[0mstrftime\u001b[0m\u001b[0;34m(\u001b[0m\u001b[0;34m\"%H:%M:%S\"\u001b[0m\u001b[0;34m)\u001b[0m\u001b[0;34m)\u001b[0m\u001b[0;34m\u001b[0m\u001b[0;34m\u001b[0m\u001b[0m\n\u001b[1;32m      5\u001b[0m \u001b[0mprint\u001b[0m\u001b[0;34m(\u001b[0m\u001b[0ma\u001b[0m\u001b[0;34m)\u001b[0m\u001b[0;34m\u001b[0m\u001b[0;34m\u001b[0m\u001b[0m\n",
            "\u001b[0;31mNameError\u001b[0m: name 'time' is not defined"
          ]
        }
      ]
    },
    {
      "cell_type": "code",
      "metadata": {
        "colab": {
          "base_uri": "https://localhost:8080/"
        },
        "id": "dOMXnWSjoKHx",
        "outputId": "b1e47157-7cf2-4d8b-abda-e5523ed33a8e"
      },
      "source": [
        "import logging\n",
        "logging.basicConfig(filename='example.log',\n",
        "                    level=logging.INFO)\n",
        " \n",
        " \n",
        "def logger(func):\n",
        "    def log_func(*args):\n",
        "        logging.info(\n",
        "            'Running \"{}\" with arguments {}'.format(func.__name__,\n",
        "                                                    args))\n",
        "        print(func(*args))\n",
        "         \n",
        "    # Necessary for closure to\n",
        "    # work (returning WITHOUT parenthesis)\n",
        "    return log_func            \n",
        " \n",
        "def add(x, y):\n",
        "    return x+y\n",
        " \n",
        "def sub(x, y):\n",
        "    return x-y\n",
        " \n",
        "add_logger = logger(add)\n",
        "sub_logger = logger(sub)\n",
        " \n",
        "add_logger(3, 3)\n",
        "add_logger(4, 5)\n",
        " \n",
        "sub_logger(10, 5)\n",
        "sub_logger(20, 10)\n",
        "\n"
      ],
      "execution_count": null,
      "outputs": [
        {
          "output_type": "stream",
          "text": [
            "6\n",
            "9\n",
            "5\n",
            "10\n"
          ],
          "name": "stdout"
        }
      ]
    },
    {
      "cell_type": "code",
      "metadata": {
        "colab": {
          "base_uri": "https://localhost:8080/"
        },
        "id": "3axL6ASeMtQH",
        "outputId": "de382701-b743-4eb3-d578-dcbc3a0bde68"
      },
      "source": [
        "from time import sleep\n",
        "from threading import *\n",
        "\n",
        "class Hello(Thread):\n",
        "    def run(self):\n",
        "        for i in range(5):\n",
        "            print(\"Hello\")\n",
        "            sleep(1)\n",
        "\n",
        "\n",
        "class Hi(Thread):\n",
        "    def run(self):\n",
        "        for i in range(5):\n",
        "            print(\"Hi\")\n",
        "            sleep(1)\n",
        "\n",
        "\n",
        "t1 = Hello()\n",
        "t2 = Hi()\n",
        "\n",
        "t1.start()\n",
        "sleep(0.5)\n",
        "t2.start()\n",
        "\n",
        "t1.join()\n",
        "t2.join()\n",
        "\n",
        "print(\"Bye\")"
      ],
      "execution_count": null,
      "outputs": [
        {
          "output_type": "stream",
          "text": [
            "Hello\n",
            "Hi\n",
            "Hello\n",
            "Hi\n",
            "Hello\n",
            "Hi\n",
            "Hello\n",
            "Hi\n",
            "Hello\n",
            "Hi\n",
            "Bye\n"
          ],
          "name": "stdout"
        }
      ]
    },
    {
      "cell_type": "code",
      "metadata": {
        "colab": {
          "base_uri": "https://localhost:8080/"
        },
        "id": "sD1s6l-zTubk",
        "outputId": "f3af17f3-37f0-4bf5-8b7a-b4c63d432d69"
      },
      "source": [
        "def decorator_with_arguments(function):\n",
        "    def wrapper_accepting_arguments(arg1, arg2):\n",
        "        print(\"My arguments are: {0}, {1}\".format(arg1,arg2))\n",
        "        function(arg1, arg2)\n",
        "    return wrapper_accepting_arguments\n",
        "\n",
        "\n",
        "@decorator_with_arguments\n",
        "def cities(city_one, city_two):\n",
        "    print(\"Cities I love are {0} and {1}\".format(city_one, city_two))\n",
        "\n",
        "cities(\"Nairobi\", \"Accra\")"
      ],
      "execution_count": null,
      "outputs": [
        {
          "output_type": "stream",
          "text": [
            "My arguments are: Nairobi, Accra\n",
            "Cities I love are Nairobi and Accra\n"
          ],
          "name": "stdout"
        }
      ]
    },
    {
      "cell_type": "code",
      "metadata": {
        "colab": {
          "base_uri": "https://localhost:8080/"
        },
        "id": "m58ZUeeJZWz9",
        "outputId": "75e91ff0-3938-41ea-ee2e-68465b238e28"
      },
      "source": [
        "def a_decorator_passing_arbitrary_arguments(function_to_decorate):\n",
        "    def a_wrapper_accepting_arbitrary_arguments(*args,**kwargs):\n",
        "        print('The positional arguments are', args)\n",
        "        print('The keyword arguments are', kwargs)\n",
        "        function_to_decorate(*args)\n",
        "    return a_wrapper_accepting_arbitrary_arguments\n",
        "\n",
        "@a_decorator_passing_arbitrary_arguments\n",
        "def function_with_no_argument():\n",
        "    print(\"No arguments here.\")\n",
        "\n",
        "function_with_no_argument()"
      ],
      "execution_count": null,
      "outputs": [
        {
          "output_type": "stream",
          "text": [
            "The positional arguments are ()\n",
            "The keyword arguments are {}\n",
            "No arguments here.\n"
          ],
          "name": "stdout"
        }
      ]
    },
    {
      "cell_type": "code",
      "metadata": {
        "colab": {
          "base_uri": "https://localhost:8080/"
        },
        "id": "x1o9kqWpBg5k",
        "outputId": "94c5d969-5c36-43bf-ca4c-b02cf1351f17"
      },
      "source": [
        "import functools\n",
        "\n",
        "def decorator_maker_with_arguments(decorator_arg1, decorator_arg2, decorator_arg3):\n",
        "    def decorator(func):\n",
        "        @functools.wraps(func)\n",
        "        def wrapper(function_arg1, function_arg2, function_arg3) :\n",
        "            \"This is the wrapper function\"\n",
        "            print(\"The wrapper can access all the variables\\n\"\n",
        "                  \"\\t- from the decorator maker: {0} {1} {2}\\n\"\n",
        "                  \"\\t- from the function call: {3} {4} {5}\\n\"\n",
        "                  \"and pass them to the decorated function\"\n",
        "                  .format(decorator_arg1, decorator_arg2,decorator_arg3,\n",
        "                          function_arg1, function_arg2,function_arg3))\n",
        "            return func(function_arg1, function_arg2,function_arg3)\n",
        "\n",
        "        return wrapper\n",
        "\n",
        "    return decorator\n",
        "\n",
        "pandas = \"Pandas\"\n",
        "@decorator_maker_with_arguments(pandas, \"Numpy\",\"Scikit-learn\")\n",
        "def decorated_function_with_arguments(function_arg1, function_arg2,function_arg3):\n",
        "    \"This is to test the actual function\"\n",
        "    print(\"This is the decorated function and it only knows about its arguments: {0}\"\n",
        "           \" {1}\" \" {2}\".format(function_arg1, function_arg2,function_arg3))\n",
        "\n",
        "decorated_function_with_arguments(pandas, \"Science\", \"Tools\")"
      ],
      "execution_count": null,
      "outputs": [
        {
          "output_type": "stream",
          "text": [
            "The wrapper can access all the variables\n",
            "\t- from the decorator maker: Pandas Numpy Scikit-learn\n",
            "\t- from the function call: Pandas Science Tools\n",
            "and pass them to the decorated function\n",
            "This is the decorated function and it only knows about its arguments: Pandas Science Tools\n"
          ],
          "name": "stdout"
        }
      ]
    },
    {
      "cell_type": "code",
      "metadata": {
        "colab": {
          "base_uri": "https://localhost:8080/",
          "height": 36
        },
        "id": "glamZf7pp4mv",
        "outputId": "0f089bff-dd05-4e4b-a5ca-e1fca1128efe"
      },
      "source": [
        "decorated_function_with_arguments.__name__"
      ],
      "execution_count": null,
      "outputs": [
        {
          "output_type": "execute_result",
          "data": {
            "application/vnd.google.colaboratory.intrinsic+json": {
              "type": "string"
            },
            "text/plain": [
              "'decorated_function_with_arguments'"
            ]
          },
          "metadata": {
            "tags": []
          },
          "execution_count": 11
        }
      ]
    },
    {
      "cell_type": "code",
      "metadata": {
        "colab": {
          "base_uri": "https://localhost:8080/",
          "height": 36
        },
        "id": "Vy60EPW5hc7Z",
        "outputId": "8acde159-75c0-4f82-f1b0-30def5c46348"
      },
      "source": [
        "decorated_function_with_arguments.__doc__"
      ],
      "execution_count": null,
      "outputs": [
        {
          "output_type": "execute_result",
          "data": {
            "application/vnd.google.colaboratory.intrinsic+json": {
              "type": "string"
            },
            "text/plain": [
              "'This is to test the actual function'"
            ]
          },
          "metadata": {
            "tags": []
          },
          "execution_count": 12
        }
      ]
    },
    {
      "cell_type": "code",
      "metadata": {
        "colab": {
          "base_uri": "https://localhost:8080/",
          "height": 36
        },
        "id": "HQj0E_32p4CV",
        "outputId": "3159ef1e-83d9-415c-8278-49654ff65012"
      },
      "source": [
        "import functools\n",
        "\n",
        "def uppercase_decorator(func):\n",
        "    ##@functools.wraps(func)\n",
        "    def wrapper():\n",
        "        return func().upper()\n",
        "    return wrapper\n",
        "\n",
        "@uppercase_decorator\n",
        "def say_hi():\n",
        "    \"This will say hi\"\n",
        "    return 'hello there'\n",
        "\n",
        "say_hi()\n"
      ],
      "execution_count": null,
      "outputs": [
        {
          "output_type": "execute_result",
          "data": {
            "application/vnd.google.colaboratory.intrinsic+json": {
              "type": "string"
            },
            "text/plain": [
              "'HELLO THERE'"
            ]
          },
          "metadata": {
            "tags": []
          },
          "execution_count": 2
        }
      ]
    },
    {
      "cell_type": "code",
      "metadata": {
        "colab": {
          "base_uri": "https://localhost:8080/"
        },
        "id": "Yt5ee7jdlAtR",
        "outputId": "6f18976b-14c2-4e05-eebd-991c71b56753"
      },
      "source": [
        "import functools\n",
        "\n",
        "##@cache\n",
        "def factorial(n):\n",
        "    return n * factorial(n-1) if n else 1\n",
        "\n",
        "factorial(12)"
      ],
      "execution_count": null,
      "outputs": [
        {
          "output_type": "execute_result",
          "data": {
            "text/plain": [
              "479001600"
            ]
          },
          "metadata": {
            "tags": []
          },
          "execution_count": 19
        }
      ]
    },
    {
      "cell_type": "code",
      "metadata": {
        "colab": {
          "base_uri": "https://localhost:8080/"
        },
        "id": "xJWuHvV9hO9V",
        "outputId": "625601e1-880e-45be-b60d-a128fa3b7ddc"
      },
      "source": [
        "def plus_one(number):\n",
        "    print(\"76\")\n",
        "\n",
        "add_one = plus_one\n",
        "add_one(\"a\")"
      ],
      "execution_count": null,
      "outputs": [
        {
          "output_type": "stream",
          "text": [
            "76\n"
          ],
          "name": "stdout"
        }
      ]
    },
    {
      "cell_type": "code",
      "metadata": {
        "id": "T7rTCiFjQ0fi"
      },
      "source": [
        "# Function to check object\n",
        "# is iterable or not \n",
        "def iterable(obj):\n",
        "    try:\n",
        "        iter(obj)\n",
        "        return True\n",
        "          \n",
        "    except TypeError:\n",
        "        return False\n",
        "  \n",
        "# Driver Code     \n",
        "for element in [34, 4, 5, (4, 5),\n",
        "             {\"a\":4}, \"dfsdf\", 4.5]:\n",
        "                   \n",
        "    print(element, \" is iterable : \", iterable(element))"
      ],
      "execution_count": null,
      "outputs": []
    },
    {
      "cell_type": "code",
      "metadata": {
        "id": "fA9U87cFSUbm"
      },
      "source": [
        "# A Simple Python program to demonstrate working\n",
        "# of yield\n",
        "  \n",
        "# A generator function that yields 1 for the first time,\n",
        "# 2 second time and 3 third time\n",
        "def simpleGeneratorFun():\n",
        "    yield [1,2,3]\n",
        "    yield 2\n",
        "    yield 3\n",
        "  \n",
        "# Driver code to check above generator function\n",
        "for value in simpleGeneratorFun(): \n",
        "    print(value)"
      ],
      "execution_count": null,
      "outputs": []
    },
    {
      "cell_type": "code",
      "metadata": {
        "id": "WJG85HLrRC7_"
      },
      "source": [
        "# Python program to illustrate \n",
        "# *args with first extra argument\n",
        "def myFun(*argv):\n",
        "    for arg in argv:\n",
        "        print(\"Next argument through *argv :\", arg)\n",
        "  \n",
        "myFun('Hello', 'Welcome', 'to', 'GeeksforGeeks')"
      ],
      "execution_count": null,
      "outputs": []
    },
    {
      "cell_type": "code",
      "metadata": {
        "id": "FYur_w6QcZGK"
      },
      "source": [
        "#Decorators example\n",
        "def display_info(func):\n",
        "    def inner():\n",
        "        val = func()\n",
        "        newval = val.upper()\n",
        "        return newval\n",
        "    return inner\n",
        "\n",
        "@display_info\n",
        "def printer():\n",
        "    return \"Hello World\"\n",
        "\n",
        "printer()"
      ],
      "execution_count": null,
      "outputs": []
    },
    {
      "cell_type": "code",
      "metadata": {
        "id": "IY9RU7h7cZDw"
      },
      "source": [
        ""
      ],
      "execution_count": null,
      "outputs": []
    },
    {
      "cell_type": "code",
      "metadata": {
        "id": "QzjDXkuCcZBa"
      },
      "source": [
        ""
      ],
      "execution_count": null,
      "outputs": []
    },
    {
      "cell_type": "code",
      "metadata": {
        "id": "fMkD1Y3qcY-s"
      },
      "source": [
        ""
      ],
      "execution_count": null,
      "outputs": []
    },
    {
      "cell_type": "code",
      "metadata": {
        "id": "HBzrrbBecY8J"
      },
      "source": [
        ""
      ],
      "execution_count": null,
      "outputs": []
    },
    {
      "cell_type": "code",
      "metadata": {
        "id": "i8UEAkZxcY0Y"
      },
      "source": [
        ""
      ],
      "execution_count": null,
      "outputs": []
    }
  ]
}